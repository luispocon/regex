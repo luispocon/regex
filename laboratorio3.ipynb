{
 "cells": [
  {
   "cell_type": "code",
   "execution_count": 18,
   "id": "aa9db3e5-751e-4f36-8be9-91a75025e594",
   "metadata": {},
   "outputs": [],
   "source": [
    "import numpy as np\n",
    "import pandas as pd\n",
    "from datetime import datetime, timedelta\n",
    "import re\n",
    "from datetime import datetime\n"
   ]
  },
  {
   "cell_type": "markdown",
   "id": "84277816-0711-402f-a2a5-1a42a3b97a2b",
   "metadata": {},
   "source": [
    "__Instrucciones:__ A continuación verá una lista de ejercicios que debe completar para poder entregar el la hoja de trabajo #3. Al finalizar, todos sus archivos deben estar contenidos en un archivo ht3-sucarnet.zip. Este archivo lo debe entregar en el link del GES. Por favor cree una carpeta para cada ejercicio que usted realice."
   ]
  },
  {
   "cell_type": "markdown",
   "id": "45a3e278-48b1-45d7-a20c-3fc9bcb62a89",
   "metadata": {},
   "source": [
    "## Problema 1:\n",
    "Utilice expresiones regulares para validar las siguintes situaciones:\n",
    "\n"
   ]
  },
  {
   "cell_type": "markdown",
   "id": "85a6ffa3-52cd-4ca8-9d29-5fceebbaa002",
   "metadata": {},
   "source": [
    "1. Implemente una regex para validar un correo electrónico en general, a continuación se muestran algunos ejemplos.\n",
    "\n",
    "    * Guate.360-porelmundo@miguate.com\n",
    "    * Miercoles3@hotmail.com\n",
    "    * Progra3.galileo@galileo.edu"
   ]
  },
  {
   "cell_type": "code",
   "execution_count": 13,
   "id": "7a5a4e6b-9c33-47ba-b8de-7cc2ac24b4bd",
   "metadata": {},
   "outputs": [],
   "source": [
    "def validacionCorreo(correos, x = 0):\n",
    "    \"\"\"Validación de correos eléctronicos \"\"\"\n",
    "    regex = r'^[a-zA-Z0-9._-]+@[a-zA-Z0-9.-]+\\.[a-zA-Z]{2,}$'\n",
    "    correos_correctos = []\n",
    "    correos_errores = []\n",
    "    \n",
    "    for correo in correos:\n",
    "        if re.match(regex, correo):\n",
    "            correos_correctos.append(correo)\n",
    "        else:\n",
    "            correos_errores.append(correo)\n",
    "    \n",
    "    if x == 0:\n",
    "        return print(\"Correos Validos \"+ str(correos_correctos)) \n",
    "    else:\n",
    "        return print(\"Correos No Validos \"+ str(correos_errores))\n",
    "    "
   ]
  },
  {
   "cell_type": "code",
   "execution_count": 14,
   "id": "3133ad91-2dd1-4496-84e4-cd2cf9253386",
   "metadata": {},
   "outputs": [],
   "source": [
    "lista_correos = [\n",
    "    \"Guate.360-porelmundo@miguate.com\",\n",
    "    \"Miercoles3@hotmail.com\",\n",
    "    \"Progra3.galileo@galileo.edu\",\n",
    "    \"mp3_sdf.com\",\n",
    "    \"usuario@dominio.\",\n",
    "    \"@dominio.com\",\n",
    "    \"apple.com.usa\"\n",
    "]"
   ]
  },
  {
   "cell_type": "code",
   "execution_count": 17,
   "id": "e673b58c-98f5-4952-ae60-c7ccb9f77b73",
   "metadata": {},
   "outputs": [
    {
     "name": "stdout",
     "output_type": "stream",
     "text": [
      "Correos Validos ['Guate.360-porelmundo@miguate.com', 'Miercoles3@hotmail.com', 'Progra3.galileo@galileo.edu']\n"
     ]
    }
   ],
   "source": [
    "validacionCorreo(lista_correos, x = 0)"
   ]
  },
  {
   "cell_type": "markdown",
   "id": "ddc4f387-a2d8-4938-aa93-bd331434c700",
   "metadata": {},
   "source": [
    "2. implemente una regex para validar la dirección url de una página web con los tipos de domino (.com, .org, .edu). Note que la url incluye el protocolo (http o https) y los símbolos (//www.), a continuación se muestran algunos ejemplos:\n",
    "\n",
    "    *  https://www.guate360-porelmundo.com\n",
    "    *  http://www.a2.net\n",
    "    *  https://www.galileo.edu\n",
    "    *  http://www.8.org (no valida)\n",
    "    "
   ]
  },
  {
   "cell_type": "code",
   "execution_count": 132,
   "id": "f31b22c9-5361-4c85-b49c-89511fcafcc8",
   "metadata": {},
   "outputs": [],
   "source": [
    "def validarUrl(link, x = 0):\n",
    "    \"\"\"Validar enlaces correctas\"\"\"\n",
    "    \n",
    "    regex = r'^https?://www\\.(?![0-9]$)(?![a-zA-Z]$)(?![-.]$)([a-zA-Z0-9-]+)\\.(com|org|edu)$'\n",
    "    url_correctos = []\n",
    "    url_errores = []\n",
    "    \n",
    "    for enlaces in link:\n",
    "        if re.match(regex, enlaces) and len(re.match(regex, enlaces).group(1)) > 4 :\n",
    "            url_correctos.append(enlaces)\n",
    "        else:\n",
    "            url_errores.append(enlaces)\n",
    "    \n",
    "    if x == 0:\n",
    "        return print(\"URL Validos \"+ str(url_correctos)) \n",
    "    else:\n",
    "        return print(\"URL No Validos \"+ str(url_errores))\n",
    "    \n",
    "urls = [\n",
    "    \"https://www.guate360-porelmundo.com\",\n",
    "    \"http://www.a2.net\",\n",
    "    \"https://www.galileo.edu\",\n",
    "    \"http://www.8.org\",\n",
    "    \"https://guatemala.gt\",\n",
    "    \"ftp://www.Apple.com\",\n",
    "    \"Hyttps://www.Siman.com\"\n",
    "]"
   ]
  },
  {
   "cell_type": "code",
   "execution_count": 133,
   "id": "e17607ce-bcb6-4e4e-96da-e3012f4a1645",
   "metadata": {},
   "outputs": [
    {
     "name": "stdout",
     "output_type": "stream",
     "text": [
      "URL Validos ['https://www.guate360-porelmundo.com', 'https://www.galileo.edu']\n"
     ]
    }
   ],
   "source": [
    "validarUrl(urls, x = 0)"
   ]
  },
  {
   "cell_type": "markdown",
   "id": "6c330fa8-3310-48ea-9b32-9432aaf97a64",
   "metadata": {},
   "source": [
    "3. Implemente una regex para validar una MAC Address, notar que las mac addres están divididas en 6 bloques de caracteres hexadecimales, es decir que los símbolos solo pueden variar del 0 al 9 y las letras de la A a la F. a continuación se muestran algunos ejemplos:\n",
    "    * 5A 6F AF 8C 9B 1D\n",
    "    * 6D 6C 4D 3A EB 3F\n",
    "    * 3A 7C FA C8 6D 4J"
   ]
  },
  {
   "cell_type": "code",
   "execution_count": 131,
   "id": "9e112f27-df05-483d-93f6-e5d650fb8778",
   "metadata": {},
   "outputs": [
    {
     "name": "stdout",
     "output_type": "stream",
     "text": [
      "MACs válidas:\n",
      "5A 6F AF 8C 9B 1D\n",
      "6D 6C 4D 3A EB 3F\n",
      "\n",
      "MACs no válidas:\n",
      "3A 7C FA C8 6D 4J\n"
     ]
    }
   ],
   "source": [
    "def validar_mac_addresses(mac_addresses):\n",
    "    patron_mac = r'^([0-9A-Fa-f]{2}\\s){5}[0-9A-Fa-f]{2}$'\n",
    "    mac_validas = []\n",
    "    mac_no_validas = []\n",
    "\n",
    "    for mac in mac_addresses:\n",
    "        if re.match(patron_mac, mac):\n",
    "            mac_validas.append(mac)\n",
    "        else:\n",
    "            mac_no_validas.append(mac)\n",
    "    \n",
    "    return mac_validas, mac_no_validas\n",
    "\n",
    "macs = [\n",
    "    \"5A 6F AF 8C 9B 1D\",\n",
    "    \"6D 6C 4D 3A EB 3F\",\n",
    "    \"3A 7C FA C8 6D 4J\"\n",
    "]\n",
    "\n",
    "mac_validas, mac_no_validas = validar_mac_addresses(macs)\n",
    "\n",
    "print(\"MACs válidas:\")\n",
    "for mac in mac_validas:\n",
    "    print(mac)\n",
    "\n",
    "print(\"\\nMACs no válidas:\")\n",
    "for mac in mac_no_validas:\n",
    "    print(mac)"
   ]
  },
  {
   "cell_type": "markdown",
   "id": "679a559e-42a4-4bd7-88d0-490c8b4b9d47",
   "metadata": {},
   "source": [
    "4. Implemente una regex para validar una dirección IPv4, notar que las direcciones IPv4 estan divididas en 4 bloques de valores los cuales solo pueden ir desde 0 hasta 255, una ip donde algunos de sus bloques sea mayor a 255 no es valida, además tome en cuenta que cada bloque está separada por un punto. A continuación se muestran algunos ejemplos:\n",
    "\n",
    "\n",
    "  * 192.16.8.1\n",
    "  * 234.56.78.90\n",
    "  * 1.2.3.4\n",
    "  * 192.168.45.345 (no valida por que el ultimo bloque es mayor a 255)"
   ]
  },
  {
   "cell_type": "code",
   "execution_count": null,
   "id": "85b24a1d-7ff1-402e-8f67-3cc5658dae36",
   "metadata": {},
   "outputs": [],
   "source": [
    "def validar_ipv4(direcciones_ipv4):\n",
    "    regex = r\"^(25[0-5]|2[0-4][0-9]|[01]?[0-9][0-9]?)\\.(25[0-5]|2[0-4][0-9]|[01]?[0-9][0-9]?)\\.(25[0-5]|2[0-4][0-9]|[01]?[0-9][0-9]?)\\.(25[0-5]|2[0-4][0-9]|[01]?[0-9][0-9]?)$\"\n",
    "\n",
    "    correctos = []\n",
    "    incorrectos = []\n",
    "\n",
    "    for ipv4 in direcciones_ipv4:\n",
    "        if re.match(regex, ipv4):\n",
    "            correctos.append(ipv4)\n",
    "        else:\n",
    "            incorrectos.append(ipv4)\n",
    "\n",
    "    return correctos, incorrectos\n",
    "\n",
    "# Ejemplo de uso\n",
    "direcciones = [\"192.168.1.1\", \"256.0.0.1\", \"1.2.3.4\", \"192.168.45.345\"]\n",
    "correctos, incorrectos = validar_ipv4(direcciones)\n",
    "print(\"Direcciones IPv4 correctas:\", correctos)\n",
    "print(\"Direcciones IPv4 incorrectas:\", incorrectos)"
   ]
  },
  {
   "cell_type": "markdown",
   "id": "346e7081-da22-4694-bc50-6dd621b7db19",
   "metadata": {},
   "source": [
    "5. Implemente una regex para validar una fecha con la secuencia día-mes-año donde el día, mes y añoo puedan estar separados ya sea por el caracter / o el caracter - o el caracter ., notar que las fechas son validas si los si los días están definidos desde el 1 al 31, el mes del 1 al 12 y el año de 2000 al 2019. También debe tomar en cuenta que los días y meses pueden estar escritos ya sea con uno o dos caracteres por ejemplo: Enero puede escribirse como 1 o como 01. Los años también pueden expresarse ya sea con dos o con cuatro caracteres por ejemplo:\n",
    "\n",
    "\n",
    "    19 o 2019 son validos. A continuación se muestran algunos ejemplos:\n",
    "\n",
    "  * 20/1/2019\n",
    "  * 12.03.2005\n",
    "  * 31-11-08\n",
    "  * 1-1-2012\n",
    "  * 12-12-22 (no valida, por que el año supera al 2019)."
   ]
  },
  {
   "cell_type": "code",
   "execution_count": 3,
   "id": "292ab897-36c4-41c4-9ad4-ac9b714689a3",
   "metadata": {},
   "outputs": [
    {
     "name": "stdout",
     "output_type": "stream",
     "text": [
      "20/1/2019 es una fecha válida.\n",
      "12.03.2005 es una fecha válida.\n",
      "31-11-2015 es una fecha válida.\n",
      "1-1-2012 es una fecha válida.\n",
      "12-12-22 no es una fecha válida.\n"
     ]
    }
   ],
   "source": [
    "regex = r\"^(0?[1-9]|[12][0-9]|3[01])[-./](0?[1-9]|1[0-2])[-./](20(0[0-9]|1[0-9])|2019)$\"\n",
    "\n",
    "fechas = [\"20/1/2019\", \"12.03.2005\", \"31-11-2015\", \"1-1-2012\", \"12-12-22\"]\n",
    "\n",
    "for fecha in fechas:\n",
    "    if re.match(regex, fecha):\n",
    "        print(f\"{fecha} es una fecha válida.\")\n",
    "    else:\n",
    "        print(f\"{fecha} no es una fecha válida.\")"
   ]
  },
  {
   "cell_type": "markdown",
   "id": "d72f5b56-5c05-47ba-b1b5-e03041d1dc7f",
   "metadata": {},
   "source": [
    "## Problema 2:"
   ]
  },
  {
   "cell_type": "markdown",
   "id": "3453f34b-c275-4e1c-a0f1-a2f04b502345",
   "metadata": {},
   "source": [
    "En la carpeta encontrará adjuntos 21 documentos que tiene 100 fechas en la secuencia días-mes-año pero con distinto separador y distinto formato de mes, en algunos casos aparece un numero y en otros el nombre del mes en ingles, por ejemplo: Enero pueder aparecer como 1 o como Jan.\n",
    "\n",
    "Utilice Python y expresiones regulares para encontrar el día, mes y año promedio total del los 21 archivos, los resultados deben ser un double."
   ]
  },
  {
   "cell_type": "code",
   "execution_count": 4,
   "id": "7676eedd-31e5-46a2-99b8-a2cb0eb3d19c",
   "metadata": {},
   "outputs": [],
   "source": [
    "Fechas = []\n",
    "\n",
    "for i in range(1,22):\n",
    "    data = pd.read_csv(\"D{i}.txt\".format(i=i), header=None).rename(columns = {0: \"Fecha\"})\n",
    "    Fechas.append(data)\n",
    "\n",
    "df = pd.concat(Fechas)\n"
   ]
  },
  {
   "cell_type": "code",
   "execution_count": 6,
   "id": "60cafb34-43d3-4cec-ab45-8216242776c4",
   "metadata": {},
   "outputs": [],
   "source": [
    "def replace_month(match):\n",
    "    month_mapping = {\n",
    "        \"jan\": \"01\",\n",
    "        \"feb\": \"02\",\n",
    "        \"mar\": \"03\",\n",
    "        \"apr\": \"04\",\n",
    "        \"may\": \"05\",\n",
    "        \"jun\": \"06\",\n",
    "        \"jul\": \"07\",\n",
    "        \"aug\": \"08\",\n",
    "        \"sep\": \"09\",\n",
    "        \"oct\": \"10\",\n",
    "        \"nov\": \"11\",\n",
    "        \"dec\": \"12\"\n",
    "    }\n",
    "\n",
    "    return month_mapping.get(match.group().lower(), match.group())\n",
    "\n",
    "dates = list(df[\"Fecha\"])\n",
    "\n",
    "clean_dates = []\n",
    "\n",
    "for date in dates:\n",
    "    # Reemplazar los nombres de meses por sus equivalentes numéricos\n",
    "    normalized_date = re.sub(r\"\\b(?:jan|feb|mar|apr|may|jun|jul|aug|sep|oct|nov|dec)\\b\", replace_month, date, flags=re.IGNORECASE)\n",
    "    clean_dates.append(normalized_date)"
   ]
  },
  {
   "cell_type": "code",
   "execution_count": 20,
   "id": "76ad56fa-5989-472b-9da2-8cc62710b13d",
   "metadata": {},
   "outputs": [
    {
     "name": "stdout",
     "output_type": "stream",
     "text": [
      "Promedio de día: 15.624761904761904\n",
      "Promedio de mes: 6.4664761904761905\n",
      "Promedio de año: 2016.6869047619048\n"
     ]
    }
   ],
   "source": [
    "\n",
    "def normalize_dates(date):\n",
    "    formats = [\n",
    "        r\"(\\d{2})[-./](\\d{2})[-./](\\d{4})\",  # Formato: dd/mm/yyyy\n",
    "        r\"(\\d{2})[-./](\\d{2})[-./](\\d{2})\"   # Formato: dd/mm/yy\n",
    "    ]\n",
    "\n",
    "    for format_regex in formats:\n",
    "        match = re.match(format_regex, date)\n",
    "        if match:\n",
    "            day, month, year = match.groups()\n",
    "            return f\"{day.zfill(2)}/{month.zfill(2)}/{year.zfill(4)}\"\n",
    "\n",
    "    return None  \n",
    "\n",
    "# Datos para limpiar\n",
    "dates1 = clean_dates\n",
    "\n",
    "normalized_dates = []\n",
    "\n",
    "for date in dates1:\n",
    "    normalized_date = normalize_dates(date)\n",
    "    if normalized_date:\n",
    "        normalized_dates.append(normalized_date)\n",
    "\n",
    "# Calcular el promedio de las fechas\n",
    "total_dates = len(normalized_dates)\n",
    "total_days = sum(int(date.split('/')[0]) for date in normalized_dates)\n",
    "total_months = sum(int(date.split('/')[1]) for date in normalized_dates)\n",
    "total_years = sum(int(date.split('/')[2]) for date in normalized_dates)\n",
    "\n",
    "average_day = total_days / total_dates\n",
    "average_month = total_months / total_dates\n",
    "average_year = total_years / total_dates\n",
    "\n",
    "print(\"Promedio de día:\", average_day)\n",
    "print(\"Promedio de mes:\", average_month)\n",
    "print(\"Promedio de año:\", average_year)"
   ]
  },
  {
   "cell_type": "markdown",
   "id": "50a17c0f-dfb1-45d4-9554-e97b42f76348",
   "metadata": {},
   "source": [
    "## Problema 3:\n",
    "Descargue el Dataset (de click aquí para descargar) el cual contiene aproximadamente 800,000\n",
    "tweets de diversos temas.\n",
    "\n",
    "Usando CoLab y expresiones regulares. Determine los 3 usuarios más populares dentro del\n",
    "dataset. Luego arme un corpus el cual contenga los siguientes elementos por cada usuario seleccionado:\n",
    "\n",
    " * Content: Tweet.\n",
    " * Metadata: ID, Timestamp, Length (este valor hay que calcularlo)."
   ]
  },
  {
   "cell_type": "markdown",
   "id": "2c268684-f3ec-43c6-9573-d2ec325c7bd5",
   "metadata": {},
   "source": [
    "Posterior a tener sus 3 corpus creados, responda: ¿Raz´on por la que citan a ese usuario? para\n",
    "esto es necesario que extraiga el contexto de cada tweet y verifique cuales son las palabras que más rodean al nombre de usuario. Para extraer un contexto valido y debido a la naturaleza del tipo\n",
    "de datos que est´an disponibles en nuestro dataset le recomendamos seguir los siguientes pasos:\n",
    "\n",
    "1. Remover stopwords.\n",
    "2. Realizar stemming y lemmatización.\n",
    "3. Mostrar un Wordcloud con el top 10 para cada usuario.\n"
   ]
  },
  {
   "cell_type": "code",
   "execution_count": null,
   "id": "133e179a-7527-4ee0-b1e9-62cb6c9f75d3",
   "metadata": {},
   "outputs": [],
   "source": []
  },
  {
   "cell_type": "code",
   "execution_count": null,
   "id": "6f6d0c6f-3bb1-46ce-99a6-54d80c218373",
   "metadata": {},
   "outputs": [],
   "source": []
  },
  {
   "cell_type": "code",
   "execution_count": null,
   "id": "f41cadb6-1a36-4ff0-9c13-3ea522a7ea75",
   "metadata": {},
   "outputs": [],
   "source": []
  },
  {
   "cell_type": "code",
   "execution_count": null,
   "id": "24b5c70c-b662-4dcb-9d0b-0dc70c324fe5",
   "metadata": {},
   "outputs": [],
   "source": []
  }
 ],
 "metadata": {
  "kernelspec": {
   "display_name": "Python 3 (ipykernel)",
   "language": "python",
   "name": "python3"
  },
  "language_info": {
   "codemirror_mode": {
    "name": "ipython",
    "version": 3
   },
   "file_extension": ".py",
   "mimetype": "text/x-python",
   "name": "python",
   "nbconvert_exporter": "python",
   "pygments_lexer": "ipython3",
   "version": "3.9.13"
  }
 },
 "nbformat": 4,
 "nbformat_minor": 5
}
